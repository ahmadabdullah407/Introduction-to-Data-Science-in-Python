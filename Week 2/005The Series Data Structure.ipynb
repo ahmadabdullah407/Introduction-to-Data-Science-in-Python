{
 "cells": [
  {
   "cell_type": "markdown",
   "metadata": {},
   "source": [
    "# The Series Data Structure:\n",
    "In this lecture we're going to explore the pandas Series structure. By the end of this lecture you should be \n",
    "familiar with how to store and manipulate single dimensional indexed data in the Series object."
   ]
  },
  {
   "cell_type": "markdown",
   "metadata": {},
   "source": [
    "The series is one of the core data structures in pandas. You think of it a cross between a list and a dictionary.\n",
    "The items are all stored in an order and there's labels with which you can retrieve them. An easy way to \n",
    "visualize this is two columns of data. The first is the special index, a lot like keys in a dictionary. While the\n",
    "second is your actual data. It's important to note that the data column has a label of its own and can be \n",
    "retrieved using the .name attribute. This is different than with dictionaries and is useful when it comes to \n",
    "merging multiple columns of data. And we'll talk about that later on in the course."
   ]
  },
  {
   "cell_type": "markdown",
   "metadata": {},
   "source": [
    "Let's import pandas to get started"
   ]
  },
  {
   "cell_type": "code",
   "execution_count": 2,
   "metadata": {},
   "outputs": [],
   "source": [
    "import pandas as pd"
   ]
  },
  {
   "cell_type": "markdown",
   "metadata": {},
   "source": [
    "As you might expect, you can create a series by passing in a list of values. \n",
    "When you do this, Pandas automatically assigns an index starting with zero and\n",
    "sets the name of the series to None. Let's work on an example of this."
   ]
  },
  {
   "cell_type": "markdown",
   "metadata": {},
   "source": [
    "One of the easiest ways to create a series is to use an array-like object, like \n",
    "a list."
   ]
  },
  {
   "cell_type": "markdown",
   "metadata": {},
   "source": [
    "Here I'll make a list of the three of students, Alice, Jack, and Molly, all as strings"
   ]
  },
  {
   "cell_type": "code",
   "execution_count": 3,
   "metadata": {},
   "outputs": [],
   "source": [
    "students = ['Alice', 'Jack', 'Molly']"
   ]
  },
  {
   "cell_type": "markdown",
   "metadata": {},
   "source": [
    "## panda.Series() function:\n",
    "### On lists of objects(strings):\n",
    "Now we just call the Series function in pandas and pass in the students"
   ]
  },
  {
   "cell_type": "code",
   "execution_count": 4,
   "metadata": {},
   "outputs": [
    {
     "data": {
      "text/plain": [
       "0    Alice\n",
       "1     Jack\n",
       "2    Molly\n",
       "dtype: object"
      ]
     },
     "execution_count": 4,
     "metadata": {},
     "output_type": "execute_result"
    }
   ],
   "source": [
    "pd.Series(students)"
   ]
  },
  {
   "cell_type": "markdown",
   "metadata": {},
   "source": [
    "The result is a Series object which is nicely rendered to the screen. We see here that \n",
    "the pandas has automatically identified the type of data in this Series as \"object\" and\n",
    "set the dytpe parameter as appropriate. We see that the values are indexed with integers,\n",
    "starting at zero"
   ]
  },
  {
   "cell_type": "markdown",
   "metadata": {},
   "source": [
    "### On lists of numbers:\n",
    "We don't have to use strings. If we passed in a list of whole numbers, for instance, \n",
    "we could see that panda sets the type to int64. Underneath panda stores series values in a \n",
    "typed array using the Numpy library. This offers significant speedup when processing data \n",
    "versus traditional python lists."
   ]
  },
  {
   "cell_type": "markdown",
   "metadata": {},
   "source": [
    "Lets create a little list of numbers,\n",
    "And turn that into a series"
   ]
  },
  {
   "cell_type": "code",
   "execution_count": 5,
   "metadata": {},
   "outputs": [
    {
     "data": {
      "text/plain": [
       "0    1\n",
       "1    2\n",
       "2    3\n",
       "dtype: int64"
      ]
     },
     "execution_count": 5,
     "metadata": {},
     "output_type": "execute_result"
    }
   ],
   "source": [
    "numbers = [1, 2, 3]\n",
    "pd.Series(numbers)"
   ]
  },
  {
   "cell_type": "markdown",
   "metadata": {},
   "source": [
    "And we see on my architecture that the result is a dtype of int64 objects"
   ]
  },
  {
   "cell_type": "markdown",
   "metadata": {},
   "source": [
    "### Using None type in a list of objects:\n",
    "There's some other typing details that exist for performance that are important to know. \n",
    "The most important is how Numpy and thus pandas handle missing data. \n",
    "\n",
    "In Python, we have the none type to indicate a lack of data. But what do we do if we want \n",
    "to have a typed list like we do in the series object?\n",
    "\n",
    "Underneath, pandas does some type conversion. If we create a list of strings and we have \n",
    "one element, a None type, pandas inserts it as a None and uses the type object for the \n",
    "underlying array. "
   ]
  },
  {
   "cell_type": "markdown",
   "metadata": {},
   "source": [
    "Let's recreate our list of students, but leave the last one as a None, And lets convert this to a series"
   ]
  },
  {
   "cell_type": "code",
   "execution_count": 6,
   "metadata": {},
   "outputs": [
    {
     "data": {
      "text/plain": [
       "0    Alice\n",
       "1     Jack\n",
       "2     None\n",
       "dtype: object"
      ]
     },
     "execution_count": 6,
     "metadata": {},
     "output_type": "execute_result"
    }
   ],
   "source": [
    "students = ['Alice', 'Jack', None]\n",
    "pd.Series(students)"
   ]
  },
  {
   "cell_type": "markdown",
   "metadata": {},
   "source": [
    "### Using None type in a list of numbers,integers or floats:\n",
    "However, if we create a list of numbers, integers or floats, and put in the None type,\n",
    "pandas automatically converts this to a special floating point value designated as NaN, \n",
    "which stands for \"Not a Number\".\n",
    "\n",
    "So lets create a list with a None value in it, And turn that into a series"
   ]
  },
  {
   "cell_type": "code",
   "execution_count": 7,
   "metadata": {},
   "outputs": [
    {
     "data": {
      "text/plain": [
       "0    1.0\n",
       "1    2.0\n",
       "2    NaN\n",
       "dtype: float64"
      ]
     },
     "execution_count": 7,
     "metadata": {},
     "output_type": "execute_result"
    }
   ],
   "source": [
    "numbers = [1, 2, None]\n",
    "pd.Series(numbers)"
   ]
  },
  {
   "cell_type": "markdown",
   "metadata": {},
   "source": [
    "You'll notice a couple of things. First, NaN is a different value. Second, pandas\n",
    "set the dytpe of this series to floating point numbers instead of object or ints. That's\n",
    "maybe a bit of a surprise - why not just leave this as an integer? Underneath, pandas\n",
    "represents NaN as a floating point number, and because integers can be typecast to\n",
    "floats, pandas went and converted our integers to floats. So when you're wondering why the\n",
    "list of integers you put into a Series is not floats, it's probably because there is some\n",
    "missing data."
   ]
  },
  {
   "cell_type": "markdown",
   "metadata": {},
   "source": [
    "### Nan and None:\n",
    "For those who might not have done scientific computing in Python before, it is important\n",
    "to stress that None and NaN might be being used by the data scientist in the same way, to\n",
    "denote missing data, but that underneath these are not represented by pandas in the same\n",
    "way.\n",
    "\n",
    "NaN is *NOT* equivilent to None and when we try the equality test, the result is False.\n",
    "\n",
    "Lets bring in numpy which allows us to generate an NaN value,And lets compare it to None."
   ]
  },
  {
   "cell_type": "code",
   "execution_count": 8,
   "metadata": {},
   "outputs": [
    {
     "data": {
      "text/plain": [
       "False"
      ]
     },
     "execution_count": 8,
     "metadata": {},
     "output_type": "execute_result"
    }
   ],
   "source": [
    "import numpy as np\n",
    "np.nan == None"
   ]
  },
  {
   "cell_type": "markdown",
   "metadata": {},
   "source": [
    "It turns out that you actually can't do an equality test of NAN to itself. When you do, \n",
    "the answer is always False. "
   ]
  },
  {
   "cell_type": "code",
   "execution_count": 9,
   "metadata": {},
   "outputs": [
    {
     "data": {
      "text/plain": [
       "False"
      ]
     },
     "execution_count": 9,
     "metadata": {},
     "output_type": "execute_result"
    }
   ],
   "source": [
    "np.nan == np.nan"
   ]
  },
  {
   "cell_type": "markdown",
   "metadata": {},
   "source": [
    "### Numpy.isnan():\n",
    "Instead, you need to use special functions to test for the presence of not a number, \n",
    "such as the Numpy library isnan()."
   ]
  },
  {
   "cell_type": "code",
   "execution_count": 10,
   "metadata": {},
   "outputs": [
    {
     "data": {
      "text/plain": [
       "True"
      ]
     },
     "execution_count": 10,
     "metadata": {},
     "output_type": "execute_result"
    }
   ],
   "source": [
    "np.isnan(np.nan)"
   ]
  },
  {
   "cell_type": "markdown",
   "metadata": {},
   "source": [
    "So keep in mind when you see NaN, it's meaning is similar to None, but it's a \n",
    "numeric value and treated differently for efficiency reasons."
   ]
  },
  {
   "cell_type": "markdown",
   "metadata": {},
   "source": [
    "### Series function On dictionaries:\n",
    "Let's talk more about how pandas' Series can be created. While my list might be a common \n",
    "way to create some play data, often you have label data that you want to manipulate. \n",
    "A series can be created directly from dictionary data. If you do this, the index is \n",
    "automatically assigned to the keys of the dictionary that you provided and not just \n",
    "incrementing integers.\n"
   ]
  },
  {
   "cell_type": "markdown",
   "metadata": {},
   "source": [
    "Here's an example using some data of students and their classes."
   ]
  },
  {
   "cell_type": "code",
   "execution_count": 11,
   "metadata": {},
   "outputs": [
    {
     "data": {
      "text/plain": [
       "Alice      Physics\n",
       "Jack     Chemistry\n",
       "Molly      English\n",
       "dtype: object"
      ]
     },
     "execution_count": 11,
     "metadata": {},
     "output_type": "execute_result"
    }
   ],
   "source": [
    "students_scores = {'Alice': 'Physics',\n",
    "                   'Jack': 'Chemistry',\n",
    "                   'Molly': 'English'}\n",
    "s = pd.Series(students_scores)\n",
    "s"
   ]
  },
  {
   "cell_type": "markdown",
   "metadata": {},
   "source": [
    "Here is another example with integer values:"
   ]
  },
  {
   "cell_type": "code",
   "execution_count": 12,
   "metadata": {},
   "outputs": [
    {
     "data": {
      "text/plain": [
       "Alice    1\n",
       "Jack     2\n",
       "Molly    3\n",
       "dtype: int64"
      ]
     },
     "execution_count": 12,
     "metadata": {},
     "output_type": "execute_result"
    }
   ],
   "source": [
    "students_scores = {'Alice': 1,\n",
    "                   'Jack': 2,\n",
    "                   'Molly': 3}\n",
    "s = pd.Series(students_scores)\n",
    "s"
   ]
  },
  {
   "cell_type": "markdown",
   "metadata": {},
   "source": [
    "We see that, since with string data, pandas set the data type of the series to \"object\".\n",
    "We see that the index, the first column, is also a list of strings."
   ]
  },
  {
   "cell_type": "markdown",
   "metadata": {},
   "source": [
    "### .index attribute:\n",
    "Once the series has been created, we can get the index object using the index attribute."
   ]
  },
  {
   "cell_type": "code",
   "execution_count": 13,
   "metadata": {},
   "outputs": [
    {
     "data": {
      "text/plain": [
       "Index(['Alice', 'Jack', 'Molly'], dtype='object')"
      ]
     },
     "execution_count": 13,
     "metadata": {},
     "output_type": "execute_result"
    }
   ],
   "source": [
    "s.index"
   ]
  },
  {
   "cell_type": "markdown",
   "metadata": {},
   "source": [
    "As you play more with pandas you'll notice that a lot of things are implemented as numpy\n",
    "arrays, and have the dtype value set. This is true of indicies, and here pandas infered\n",
    "that we were using objects for the index."
   ]
  },
  {
   "cell_type": "markdown",
   "metadata": {},
   "source": [
    "### dtype object:\n",
    "Now, this is kind of interesting. The dtype of object is not just for strings, but for\n",
    "arbitrary objects. Lets create a more complex type of data, say, a list of tuples."
   ]
  },
  {
   "cell_type": "code",
   "execution_count": 14,
   "metadata": {},
   "outputs": [
    {
     "data": {
      "text/plain": [
       "0    (Alice, Brown)\n",
       "1     (Jack, White)\n",
       "2    (Molly, Green)\n",
       "dtype: object"
      ]
     },
     "execution_count": 14,
     "metadata": {},
     "output_type": "execute_result"
    }
   ],
   "source": [
    "students = [(\"Alice\",\"Brown\"), (\"Jack\", \"White\"), (\"Molly\", \"Green\")]\n",
    "pd.Series(students)"
   ]
  },
  {
   "cell_type": "markdown",
   "metadata": {},
   "source": [
    "We see that each of the tuples is stored in the series object, and the type is object."
   ]
  },
  {
   "cell_type": "markdown",
   "metadata": {},
   "source": [
    "### Optional parameter Index:\n",
    "You can also separate your index creation from the data by passing in the index as a \n",
    "list explicitly to the series."
   ]
  },
  {
   "cell_type": "code",
   "execution_count": 15,
   "metadata": {},
   "outputs": [
    {
     "data": {
      "text/plain": [
       "Alice      Physics\n",
       "Jack     Chemistry\n",
       "Molly      English\n",
       "dtype: object"
      ]
     },
     "execution_count": 15,
     "metadata": {},
     "output_type": "execute_result"
    }
   ],
   "source": [
    "s = pd.Series(['Physics', 'Chemistry', 'English'], index=['Alice', 'Jack', 'Molly'])\n",
    "s"
   ]
  },
  {
   "cell_type": "markdown",
   "metadata": {},
   "source": [
    "### Using index parameter with a dictionary:\n",
    "So what happens if your list of values in the index object are not aligned with the keys \n",
    "in your dictionary for creating the series? Well, pandas overrides the automatic creation \n",
    "to favor only and all of the indices values that you provided. So it will ignore from your \n",
    "dictionary all keys which are not in your index, and pandas will add None or NaN type values \n",
    "for any index value you provide, which is not in your dictionary key list.\n",
    "\n",
    "Here's and example. I'll pass in a dictionary of three items, in this case students and\n",
    "their courses"
   ]
  },
  {
   "cell_type": "code",
   "execution_count": 16,
   "metadata": {},
   "outputs": [
    {
     "data": {
      "text/plain": [
       "Alice    Physics\n",
       "Molly    English\n",
       "Sam          NaN\n",
       "dtype: object"
      ]
     },
     "execution_count": 16,
     "metadata": {},
     "output_type": "execute_result"
    }
   ],
   "source": [
    "students_scores = {'Alice': 'Physics',\n",
    "                   'Jack': 'Chemistry',\n",
    "                   'Molly': 'English'}\n",
    "# When I create the series object though I'll only ask for an index with three students, and\n",
    "# I'll exclude Jack\n",
    "s = pd.Series(students_scores, index=['Alice', 'Molly', 'Sam'])\n",
    "s"
   ]
  },
  {
   "cell_type": "markdown",
   "metadata": {},
   "source": [
    "The result is that the Series object doesn't have Jack in it, even though he was in our\n",
    "original dataset, but it explicitly does have Sam in it as a missing value."
   ]
  },
  {
   "cell_type": "markdown",
   "metadata": {},
   "source": [
    "In this lecture we've explored the pandas Series data structure. You've seen how to create a series from lists and dictionaries, how indicies on data work, and the way that pandas typecasts data including missing values."
   ]
  }
 ],
 "metadata": {
  "kernelspec": {
   "display_name": "Python 3",
   "language": "python",
   "name": "python3"
  },
  "language_info": {
   "codemirror_mode": {
    "name": "ipython",
    "version": 3
   },
   "file_extension": ".py",
   "mimetype": "text/x-python",
   "name": "python",
   "nbconvert_exporter": "python",
   "pygments_lexer": "ipython3",
   "version": "3.8.5"
  }
 },
 "nbformat": 4,
 "nbformat_minor": 4
}
