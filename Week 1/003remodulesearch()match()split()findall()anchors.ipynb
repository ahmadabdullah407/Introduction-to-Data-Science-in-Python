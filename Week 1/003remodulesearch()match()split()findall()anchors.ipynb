{
 "cells": [
  {
   "cell_type": "markdown",
   "metadata": {},
   "source": [
    "First we'll import the re module, which is where python stores regular expression libraries."
   ]
  },
  {
   "cell_type": "code",
   "execution_count": 1,
   "metadata": {},
   "outputs": [],
   "source": [
    "import re"
   ]
  },
  {
   "cell_type": "markdown",
   "metadata": {},
   "source": [
    "## match() and search():\n",
    "There are several main processing functions in re that you might use. The first, match() checks for a match\n",
    "that is at the beginning of the string and returns a boolean. Similarly, search(), checks for a match\n",
    "anywhere in the string, and returns a boolean."
   ]
  },
  {
   "cell_type": "code",
   "execution_count": 3,
   "metadata": {},
   "outputs": [
    {
     "name": "stdout",
     "output_type": "stream",
     "text": [
      "Great!\n"
     ]
    }
   ],
   "source": [
    "text='This is a good day'\n",
    "if re.search('good', text):\n",
    "    print(\"Great!\")\n",
    "else:\n",
    "    print('Alas!')"
   ]
  },
  {
   "cell_type": "code",
   "execution_count": 7,
   "metadata": {},
   "outputs": [
    {
     "name": "stdout",
     "output_type": "stream",
     "text": [
      "Hmm\n"
     ]
    }
   ],
   "source": [
    "if re.match('good',text):\n",
    "    print(\"Great!\")\n",
    "elif re.match('This is',text):\n",
    "    print('Hmm')\n",
    "else:\n",
    "    print('Alas!')"
   ]
  },
  {
   "cell_type": "markdown",
   "metadata": {},
   "source": [
    "## Tokenizing:\n",
    "In addition to checking for conditionals, we can segment a string. The work that regex does here is called\n",
    "tokenizing, where the string is separated into substrings based on patterns. Tokenizing is a core activity\n",
    "in natural language processing, which we won't talk much about here but that you will study in the future\n",
    "\n",
    "The findall() and split() functions will parse the string for us and return chunks. Lets try and example\n",
    "## split():"
   ]
  },
  {
   "cell_type": "code",
   "execution_count": 8,
   "metadata": {},
   "outputs": [
    {
     "data": {
      "text/plain": [
       "['',\n",
       " ' works diligently. ',\n",
       " ' gets good grades. Our student ',\n",
       " ' is succesful.']"
      ]
     },
     "execution_count": 8,
     "metadata": {},
     "output_type": "execute_result"
    }
   ],
   "source": [
    "text = \"Amy works diligently. Amy gets good grades. Our student Amy is succesful.\"\n",
    "# lets split this on all instances of Amy\n",
    "re.split(\"Amy\", text)"
   ]
  },
  {
   "cell_type": "markdown",
   "metadata": {},
   "source": [
    "You'll notice that split has returned an empty string, followed by a number of statements about Amy, all as\n",
    "elements of a list."
   ]
  },
  {
   "cell_type": "markdown",
   "metadata": {},
   "source": [
    "## findall():\n",
    "If we wanted to count how many times we have talked about Amy, we could use findall()"
   ]
  },
  {
   "cell_type": "code",
   "execution_count": 9,
   "metadata": {},
   "outputs": [
    {
     "data": {
      "text/plain": [
       "['Amy', 'Amy', 'Amy']"
      ]
     },
     "execution_count": 9,
     "metadata": {},
     "output_type": "execute_result"
    }
   ],
   "source": [
    "re.findall(\"Amy\", text)"
   ]
  },
  {
   "cell_type": "markdown",
   "metadata": {},
   "source": [
    "Ok, so we've seen that .search() looks for some pattern and returns a boolean, that .split() will use a\n",
    "pattern for creating a list of substrings, and that .findall() will look for a pattern and pull out all\n",
    "occurences."
   ]
  },
  {
   "cell_type": "markdown",
   "metadata": {},
   "source": [
    "Now that we know how the python regex API works, lets talk about more complex patterns. The regex\n",
    "specification standard defines a markup language to describe patterns in text.\n",
    "## Anchors:\n",
    "Lets start with anchors.\n",
    "Anchors specify the start and/or the end of the string that you are trying to match. The caret character ^\n",
    "means start and the dollar sign character \\\\$ means end. If you put ^ before a string, it means that the text\n",
    "the regex processor retrieves must start with the string you specify. For ending, you have to put the \\\\$\n",
    "character after the string, it means that the text Regex retrieves must end with the string you specify."
   ]
  },
  {
   "cell_type": "code",
   "execution_count": 17,
   "metadata": {},
   "outputs": [
    {
     "data": {
      "text/plain": [
       "<re.Match object; span=(0, 3), match='Amy'>"
      ]
     },
     "execution_count": 17,
     "metadata": {},
     "output_type": "execute_result"
    }
   ],
   "source": [
    "text = \"Amy works diligently. Amy gets good grades. Our student Amy is succesful.Hello Amy\"\n",
    "\n",
    "# Lets see if this begins with Amy\n",
    "re.search(\"^Amy\",text)"
   ]
  },
  {
   "cell_type": "markdown",
   "metadata": {},
   "source": [
    "Notice that re.search() actually returned to us a new object, called re.Match object. An re.Match object\n",
    "always has a boolean value of True, as something was found, so you can always evaluate it in an if statement\n",
    "as we did earlier.\n",
    "The rendering of the match object also tells you what pattern was matched, in this case\n",
    "the word Amy, and the location the match was in, as the span.\n",
    "\n",
    "Try removing starting Amy from text and see what happens to span also remove ^ sign from search otherwise it will not show you result"
   ]
  },
  {
   "cell_type": "code",
   "execution_count": 19,
   "metadata": {},
   "outputs": [
    {
     "data": {
      "text/plain": [
       "<re.Match object; span=(79, 82), match='Amy'>"
      ]
     },
     "execution_count": 19,
     "metadata": {},
     "output_type": "execute_result"
    }
   ],
   "source": [
    "text = \"Amy works diligently. Amy gets good grades. Our student Amy is succesful.Hello Amy\"\n",
    "\n",
    "# Lets see if this begins with Amy\n",
    "re.search(\"Amy$\",text)"
   ]
  },
  {
   "cell_type": "code",
   "execution_count": null,
   "metadata": {},
   "outputs": [],
   "source": []
  }
 ],
 "metadata": {
  "kernelspec": {
   "display_name": "Python 3",
   "language": "python",
   "name": "python3"
  },
  "language_info": {
   "codemirror_mode": {
    "name": "ipython",
    "version": 3
   },
   "file_extension": ".py",
   "mimetype": "text/x-python",
   "name": "python",
   "nbconvert_exporter": "python",
   "pygments_lexer": "ipython3",
   "version": "3.8.5"
  }
 },
 "nbformat": 4,
 "nbformat_minor": 4
}
